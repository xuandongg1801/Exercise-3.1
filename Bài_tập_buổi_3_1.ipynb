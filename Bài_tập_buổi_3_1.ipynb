{
  "nbformat": 4,
  "nbformat_minor": 0,
  "metadata": {
    "colab": {
      "provenance": []
    },
    "kernelspec": {
      "name": "python3",
      "display_name": "Python 3"
    },
    "language_info": {
      "name": "python"
    }
  },
  "cells": [
    {
      "cell_type": "code",
      "execution_count": 1,
      "metadata": {
        "colab": {
          "base_uri": "https://localhost:8080/"
        },
        "id": "lnz9DGgzSwyt",
        "outputId": "fa87b3e5-4390-46bd-90f8-ef21074b5940"
      },
      "outputs": [
        {
          "output_type": "stream",
          "name": "stdout",
          "text": [
            "Enter the base of the triangle: 4\n",
            "Enter the height of the triangle: 5\n",
            "Area of the triangle: 10.0\n"
          ]
        }
      ],
      "source": [
        "base = float(input(\"Enter the base of the triangle: \"))\n",
        "height = float(input(\"Enter the height of the triangle: \"))\n",
        "area = 0.5 * base * height\n",
        "print(\"Area of the triangle:\", area)"
      ]
    },
    {
      "cell_type": "code",
      "source": [
        "a = float(input(\"Enter side a: \"))\n",
        "b = float(input(\"Enter side b: \"))\n",
        "c = float(input(\"Enter side c: \"))\n",
        "perimeter = a + b + c\n",
        "print(\"Perimeter of the triangle:\", perimeter)"
      ],
      "metadata": {
        "colab": {
          "base_uri": "https://localhost:8080/"
        },
        "id": "sYSukGPXSzqq",
        "outputId": "7a324807-1354-4840-ca09-7f70f108efb4"
      },
      "execution_count": 2,
      "outputs": [
        {
          "output_type": "stream",
          "name": "stdout",
          "text": [
            "Enter side a: 4\n",
            "Enter side b: 5\n",
            "Enter side c: 6\n",
            "Perimeter of the triangle: 15.0\n"
          ]
        }
      ]
    },
    {
      "cell_type": "code",
      "source": [
        "length = float(input(\"Enter the length of the rectangle: \"))\n",
        "width = float(input(\"Enter the width of the rectangle: \"))\n",
        "area = length * width\n",
        "perimeter = 2 * (length + width)\n",
        "print(\"Area:\", area)\n",
        "print(\"Perimeter:\", perimeter)"
      ],
      "metadata": {
        "colab": {
          "base_uri": "https://localhost:8080/"
        },
        "id": "ov8sQk9yS1Eh",
        "outputId": "243431f3-d5db-4dac-b0a8-2b7831cbbd8c"
      },
      "execution_count": 3,
      "outputs": [
        {
          "output_type": "stream",
          "name": "stdout",
          "text": [
            "Enter the length of the rectangle: 4\n",
            "Enter the width of the rectangle: 5\n",
            "Area: 20.0\n",
            "Perimeter: 18.0\n"
          ]
        }
      ]
    },
    {
      "cell_type": "code",
      "source": [
        "radius = float(input(\"Enter the radius of the circle: \"))\n",
        "pi = 3.14\n",
        "area = pi * radius * radius\n",
        "circumference = 2 * pi * radius\n",
        "print(\"Area:\", area)\n",
        "print(\"Circumference:\", circumference)"
      ],
      "metadata": {
        "colab": {
          "base_uri": "https://localhost:8080/"
        },
        "id": "QDsnxbTDS2n_",
        "outputId": "351d17a2-da69-49cd-cbcf-9ba12b9fbd12"
      },
      "execution_count": 4,
      "outputs": [
        {
          "output_type": "stream",
          "name": "stdout",
          "text": [
            "Enter the radius of the circle: 4\n",
            "Area: 50.24\n",
            "Circumference: 25.12\n"
          ]
        }
      ]
    },
    {
      "cell_type": "code",
      "source": [
        "slope = 2\n",
        "x_intercept = 2 / 2\n",
        "y_intercept = -2\n",
        "print(\"Slope:\", slope)\n",
        "print(\"X-intercept:\", x_intercept)\n",
        "print(\"Y-intercept:\", y_intercept)"
      ],
      "metadata": {
        "colab": {
          "base_uri": "https://localhost:8080/"
        },
        "id": "XJidb7wjS4dg",
        "outputId": "d6f6dbb9-9c6d-43d4-c6d0-c0f1ea177ed3"
      },
      "execution_count": 5,
      "outputs": [
        {
          "output_type": "stream",
          "name": "stdout",
          "text": [
            "Slope: 2\n",
            "X-intercept: 1.0\n",
            "Y-intercept: -2\n"
          ]
        }
      ]
    },
    {
      "cell_type": "code",
      "source": [
        "x1, y1 = 2, 2\n",
        "x2, y2 = 6, 10\n",
        "slope = (y2 - y1) / (x2 - x1)\n",
        "distance = ((x2 - x1)**2 + (y2 - y1)**2)**0.5\n",
        "print(\"Slope:\", slope)\n",
        "print(\"Distance:\", distance)"
      ],
      "metadata": {
        "colab": {
          "base_uri": "https://localhost:8080/"
        },
        "id": "HvikyKppS54G",
        "outputId": "6e846d30-1307-4760-b391-f8020f553edb"
      },
      "execution_count": 6,
      "outputs": [
        {
          "output_type": "stream",
          "name": "stdout",
          "text": [
            "Slope: 2.0\n",
            "Distance: 8.94427190999916\n"
          ]
        }
      ]
    },
    {
      "cell_type": "code",
      "source": [
        "print(\"Is slope from task 5 equal to task 6?\", slope == 2)"
      ],
      "metadata": {
        "colab": {
          "base_uri": "https://localhost:8080/"
        },
        "id": "KlrTTtZuS7nl",
        "outputId": "036c4db6-c043-41a6-de23-f44dd08bc759"
      },
      "execution_count": 7,
      "outputs": [
        {
          "output_type": "stream",
          "name": "stdout",
          "text": [
            "Is slope from task 5 equal to task 6? True\n"
          ]
        }
      ]
    },
    {
      "cell_type": "code",
      "source": [
        "for x in range(-10, 11):\n",
        "    y = x**2 + 6*x + 9\n",
        "    if y == 0:\n",
        "        print(\"y is 0 when x =\", x)"
      ],
      "metadata": {
        "colab": {
          "base_uri": "https://localhost:8080/"
        },
        "id": "YtqFiN2MS-LT",
        "outputId": "2abec545-ed57-418e-bcf1-82c12b00ce11"
      },
      "execution_count": 8,
      "outputs": [
        {
          "output_type": "stream",
          "name": "stdout",
          "text": [
            "y is 0 when x = -3\n"
          ]
        }
      ]
    },
    {
      "cell_type": "code",
      "source": [
        "print(\"Length of 'python':\", len(\"python\"))\n",
        "print(\"Length of 'dragon':\", len(\"dragon\"))\n",
        "print(\"Are lengths equal? \", len(\"python\") == len(\"dragon\"))"
      ],
      "metadata": {
        "colab": {
          "base_uri": "https://localhost:8080/"
        },
        "id": "n-pnpE4MS_cV",
        "outputId": "07b21c87-e416-447c-9414-ce12f77ab664"
      },
      "execution_count": 9,
      "outputs": [
        {
          "output_type": "stream",
          "name": "stdout",
          "text": [
            "Length of 'python': 6\n",
            "Length of 'dragon': 6\n",
            "Are lengths equal?  True\n"
          ]
        }
      ]
    },
    {
      "cell_type": "code",
      "source": [
        "print('on' in 'python' and 'on' in 'dragon')"
      ],
      "metadata": {
        "colab": {
          "base_uri": "https://localhost:8080/"
        },
        "id": "PkImqOLgTAtZ",
        "outputId": "5a7cd049-a58d-4b8a-8bc8-f038dc5de10e"
      },
      "execution_count": 10,
      "outputs": [
        {
          "output_type": "stream",
          "name": "stdout",
          "text": [
            "True\n"
          ]
        }
      ]
    },
    {
      "cell_type": "code",
      "source": [
        "sentence = \"I hope this course is not full of jargon.\"\n",
        "print(\"jargon\" in sentence)"
      ],
      "metadata": {
        "colab": {
          "base_uri": "https://localhost:8080/"
        },
        "id": "Iux8vhAPTCYn",
        "outputId": "18c8ede7-308e-4524-d634-122bae188e1b"
      },
      "execution_count": 11,
      "outputs": [
        {
          "output_type": "stream",
          "name": "stdout",
          "text": [
            "True\n"
          ]
        }
      ]
    },
    {
      "cell_type": "code",
      "source": [
        "length = len(\"python\")\n",
        "print(\"Float:\", float(length))\n",
        "print(\"String:\", str(length))"
      ],
      "metadata": {
        "colab": {
          "base_uri": "https://localhost:8080/"
        },
        "id": "dk7DCevWTDp9",
        "outputId": "d3fe41a1-2e1e-4830-d51f-f973efc5f430"
      },
      "execution_count": 12,
      "outputs": [
        {
          "output_type": "stream",
          "name": "stdout",
          "text": [
            "Float: 6.0\n",
            "String: 6\n"
          ]
        }
      ]
    },
    {
      "cell_type": "code",
      "source": [
        "num = int(input(\"Enter a number: \"))\n",
        "if num % 2 == 0:\n",
        "    print(\"The number is even.\")\n",
        "else:\n",
        "    print(\"The number is odd.\")"
      ],
      "metadata": {
        "colab": {
          "base_uri": "https://localhost:8080/"
        },
        "id": "6zCpWiHbTFQN",
        "outputId": "71bea68f-187e-43ff-cfdd-9db88cd3daf4"
      },
      "execution_count": 13,
      "outputs": [
        {
          "output_type": "stream",
          "name": "stdout",
          "text": [
            "Enter a number: 4\n",
            "The number is even.\n"
          ]
        }
      ]
    },
    {
      "cell_type": "code",
      "source": [
        "hours = float(input(\"Enter hours worked: \"))\n",
        "rate = float(input(\"Enter rate per hour: \"))\n",
        "pay = hours * rate\n",
        "print(\"Total pay:\", pay)"
      ],
      "metadata": {
        "colab": {
          "base_uri": "https://localhost:8080/"
        },
        "id": "UdEi2q_iTHX2",
        "outputId": "80297e4e-4d39-4b0b-b4e4-74046e2e78bd"
      },
      "execution_count": 14,
      "outputs": [
        {
          "output_type": "stream",
          "name": "stdout",
          "text": [
            "Enter hours worked: 4\n",
            "Enter rate per hour: 15000\n",
            "Total pay: 60000.0\n"
          ]
        }
      ]
    },
    {
      "cell_type": "code",
      "source": [
        "years = int(input(\"Enter number of years: \"))\n",
        "seconds = years * 365 * 24 * 60 * 60\n",
        "print(\"You can live\", seconds, \"seconds.\")"
      ],
      "metadata": {
        "colab": {
          "base_uri": "https://localhost:8080/"
        },
        "id": "ccARqx_NTIqp",
        "outputId": "38e4ce59-912b-42ff-b316-e64a9c5aa2ec"
      },
      "execution_count": 15,
      "outputs": [
        {
          "output_type": "stream",
          "name": "stdout",
          "text": [
            "Enter number of years: 5\n",
            "You can live 157680000 seconds.\n"
          ]
        }
      ]
    }
  ]
}